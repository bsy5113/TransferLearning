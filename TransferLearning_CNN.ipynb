{
  "nbformat": 4,
  "nbformat_minor": 0,
  "metadata": {
    "colab": {
      "name": "HW4_BY.ipynb",
      "provenance": [],
      "collapsed_sections": [],
      "toc_visible": true
    },
    "kernelspec": {
      "display_name": "Python 3",
      "name": "python3"
    },
    "accelerator": "GPU"
  },
  "cells": [
    {
      "cell_type": "code",
      "metadata": {
        "id": "5SaE2zTUUqS4"
      },
      "source": [
        "import numpy as np\n",
        "from sklearn.utils import shuffle\n",
        "from sklearn.metrics import accuracy_score\n",
        "import matplotlib.pyplot as plt\n",
        "\n",
        "import tensorflow as tf\n",
        "from tensorflow import keras\n",
        "from tensorflow.keras import Sequential"
      ],
      "execution_count": 1,
      "outputs": []
    },
    {
      "cell_type": "markdown",
      "metadata": {
        "id": "6s3AdZslYqS-"
      },
      "source": [
        "# Training MNIST data\n",
        "\n",
        "Import the dataset and look at some examples.\n",
        "\n",
        "The MNIST dataset consists of handwritten alphabets(both upper and lower A-Z)\n",
        "Pixel values are from 0 to 255."
      ]
    },
    {
      "cell_type": "code",
      "metadata": {
        "colab": {
          "base_uri": "https://localhost:8080/"
        },
        "id": "tpGiOYNQN2Av",
        "outputId": "93a56c57-e7fa-41e2-9775-8d5998a5fb07"
      },
      "source": [
        "!pip install emnist\n",
        "from emnist import extract_training_samples,extract_test_samples\n",
        "x_train,y_train=extract_training_samples('letters')\n",
        "x_test,y_test=extract_test_samples('letters')\n",
        "set(y_train)\n",
        "# note that these are just numpy arrays\n",
        "type(x_train)\n",
        "\n",
        "# train and test sets for digits 0-6\n",
        "x_train = x_train[y_train < 6] / 255.\n",
        "y_train = y_train[y_train < 6]\n",
        "x_test = x_test[y_test < 6] / 255.\n",
        "y_test = y_test[y_test < 6]\n"
      ],
      "execution_count": 2,
      "outputs": [
        {
          "output_type": "stream",
          "text": [
            "Requirement already satisfied: emnist in /usr/local/lib/python3.7/dist-packages (0.0)\n",
            "Requirement already satisfied: tqdm in /usr/local/lib/python3.7/dist-packages (from emnist) (4.41.1)\n",
            "Requirement already satisfied: numpy in /usr/local/lib/python3.7/dist-packages (from emnist) (1.19.5)\n",
            "Requirement already satisfied: requests in /usr/local/lib/python3.7/dist-packages (from emnist) (2.23.0)\n",
            "Requirement already satisfied: chardet<4,>=3.0.2 in /usr/local/lib/python3.7/dist-packages (from requests->emnist) (3.0.4)\n",
            "Requirement already satisfied: urllib3!=1.25.0,!=1.25.1,<1.26,>=1.21.1 in /usr/local/lib/python3.7/dist-packages (from requests->emnist) (1.24.3)\n",
            "Requirement already satisfied: idna<3,>=2.5 in /usr/local/lib/python3.7/dist-packages (from requests->emnist) (2.10)\n",
            "Requirement already satisfied: certifi>=2017.4.17 in /usr/local/lib/python3.7/dist-packages (from requests->emnist) (2021.5.30)\n"
          ],
          "name": "stdout"
        }
      ]
    },
    {
      "cell_type": "code",
      "metadata": {
        "colab": {
          "base_uri": "https://localhost:8080/"
        },
        "id": "lFkzELJ2ZQOc",
        "outputId": "908dbd22-40ac-46f0-98d7-3ddd793e84eb"
      },
      "source": [
        "# the x training data is 60,000 examples of 28x28 images\n",
        "print(x_train.shape)\n",
        "print(y_train.shape)"
      ],
      "execution_count": 3,
      "outputs": [
        {
          "output_type": "stream",
          "text": [
            "(24000, 28, 28)\n",
            "(24000,)\n"
          ],
          "name": "stdout"
        }
      ]
    },
    {
      "cell_type": "code",
      "metadata": {
        "colab": {
          "base_uri": "https://localhost:8080/",
          "height": 627
        },
        "id": "n3k0TcjqYVy9",
        "outputId": "bf49d6ce-c918-4e20-aeb6-b92605149238"
      },
      "source": [
        "# Look at some random alphabets\n",
        "X_shuffle = shuffle(x_train.copy(), random_state=42)\n",
        "\n",
        "print('Look at some alphabets\\n')\n",
        "plt.figure(figsize = (12,10))\n",
        "row, colums = 4, 4\n",
        "for i in range(16):\n",
        "    plt.subplot(colums, row, i+1)\n",
        "    plt.imshow(X_shuffle[i].reshape(28,28),interpolation='nearest', cmap='Greys')\n",
        "plt.show()"
      ],
      "execution_count": 4,
      "outputs": [
        {
          "output_type": "stream",
          "text": [
            "Look at some alphabets\n",
            "\n"
          ],
          "name": "stdout"
        },
        {
          "output_type": "display_data",
          "data": {
            "image/png": "[encoded data removed]",
            "text/plain": [
              "<Figure size 864x720 with 16 Axes>"
            ]
          },
          "metadata": {
            "tags": [],
            "needs_background": "light"
          }
        }
      ]
    },
    {
      "cell_type": "markdown",
      "metadata": {
        "id": "xxz1o2JxY1Y_"
      },
      "source": [
        "## Data Preprocessing\n",
        "\n",
        "We need to do the following to preprocess the data:\n",
        "\n",
        "1. Divide the values by the max value (255)\n",
        "2. Add a color channel (require by the convolutional layer)\n",
        "\n",
        "By default Keras assumes images are formatted as (number of examples, x-dim, y-dim, number of colors)\n",
        "\n",
        "An RGB image has 3 color channels, greyscale as 1 color channel"
      ]
    },
    {
      "cell_type": "code",
      "metadata": {
        "colab": {
          "base_uri": "https://localhost:8080/"
        },
        "id": "Yz0psGH0IOf4",
        "outputId": "e15dc4f5-f36b-4cf2-9a86-dc1c96f2522a"
      },
      "source": [
        "x_train.max()"
      ],
      "execution_count": 5,
      "outputs": [
        {
          "output_type": "execute_result",
          "data": {
            "text/plain": [
              "1.0"
            ]
          },
          "metadata": {
            "tags": []
          },
          "execution_count": 5
        }
      ]
    },
    {
      "cell_type": "code",
      "metadata": {
        "id": "uW3fu8FZYgWR"
      },
      "source": [
        "\n",
        "# add the color channel\n",
        "x_train = x_train.reshape(x_train.shape + (1,))\n",
        "x_test = x_test.reshape(x_test.shape + (1,))"
      ],
      "execution_count": 6,
      "outputs": []
    },
    {
      "cell_type": "code",
      "metadata": {
        "colab": {
          "base_uri": "https://localhost:8080/"
        },
        "id": "YQvzY7PZIUfM",
        "outputId": "6ee3f976-5af9-427a-a6bb-a659d00624bc"
      },
      "source": [
        "x_train.shape"
      ],
      "execution_count": 7,
      "outputs": [
        {
          "output_type": "execute_result",
          "data": {
            "text/plain": [
              "(24000, 28, 28, 1)"
            ]
          },
          "metadata": {
            "tags": []
          },
          "execution_count": 7
        }
      ]
    },
    {
      "cell_type": "markdown",
      "metadata": {
        "id": "Dt8luNRWcXhb"
      },
      "source": [
        "## Setup the Model\n",
        "\n",
        "This is a very basic convolutional network.\n",
        "There are essentially two sections\n",
        "1. convolutional feature extraction layers\n",
        "2. dense (fully-connected) classifier layers"
      ]
    },
    {
      "cell_type": "code",
      "metadata": {
        "id": "Ygg2sWOBbE6f"
      },
      "source": [
        "num_classes=6\n",
        "filters=32\n",
        "kernel_size=3\n",
        "pool_size=2\n",
        "dropout=0.2\n",
        "input_shape = (28,28,1)\n",
        "\n",
        "model = Sequential([\n",
        "      # convolutional feature extraction\n",
        "      # ConvNet 1\n",
        "\n",
        "        # convoultional part\n",
        "      keras.layers.Conv2D(filters, kernel_size, padding = 'valid',\n",
        "              activation='relu',\n",
        "              input_shape=input_shape),\n",
        "        # pooling part\n",
        "      keras.layers.MaxPooling2D(pool_size=pool_size),\n",
        "\n",
        "      # ConvNet 2\n",
        "      \n",
        "        # convoultional part\n",
        "      keras.layers.Conv2D(filters, kernel_size,\n",
        "              padding = 'valid',\n",
        "              activation='relu'),\n",
        "        # pooling part\n",
        "      keras.layers.MaxPooling2D(pool_size=pool_size),\n",
        "\n",
        "      # classification \n",
        "      # will retrain from here\n",
        "      keras.layers.Flatten(name='flatten'),\n",
        "\n",
        "      keras.layers.Dropout(dropout),\n",
        "      keras.layers.Dense(128, activation='relu'),\n",
        "      \n",
        "      keras.layers.Dropout(dropout, name='penult'),\n",
        "      keras.layers.Dense(num_classes, activation='softmax', name='last')\n",
        "  ])"
      ],
      "execution_count": 8,
      "outputs": []
    },
    {
      "cell_type": "code",
      "metadata": {
        "colab": {
          "base_uri": "https://localhost:8080/"
        },
        "id": "CQZPYgJgcFOt",
        "outputId": "dc3f511e-5381-471d-ada7-79abf8c1f76c"
      },
      "source": [
        "# print summary of model as check\n",
        "model.summary()"
      ],
      "execution_count": 9,
      "outputs": [
        {
          "output_type": "stream",
          "text": [
            "Model: \"sequential\"\n",
            "_________________________________________________________________\n",
            "Layer (type)                 Output Shape              Param #   \n",
            "=================================================================\n",
            "conv2d (Conv2D)              (None, 26, 26, 32)        320       \n",
            "_________________________________________________________________\n",
            "max_pooling2d (MaxPooling2D) (None, 13, 13, 32)        0         \n",
            "_________________________________________________________________\n",
            "conv2d_1 (Conv2D)            (None, 11, 11, 32)        9248      \n",
            "_________________________________________________________________\n",
            "max_pooling2d_1 (MaxPooling2 (None, 5, 5, 32)          0         \n",
            "_________________________________________________________________\n",
            "flatten (Flatten)            (None, 800)               0         \n",
            "_________________________________________________________________\n",
            "dropout (Dropout)            (None, 800)               0         \n",
            "_________________________________________________________________\n",
            "dense (Dense)                (None, 128)               102528    \n",
            "_________________________________________________________________\n",
            "penult (Dropout)             (None, 128)               0         \n",
            "_________________________________________________________________\n",
            "last (Dense)                 (None, 6)                 774       \n",
            "=================================================================\n",
            "Total params: 112,870\n",
            "Trainable params: 112,870\n",
            "Non-trainable params: 0\n",
            "_________________________________________________________________\n"
          ],
          "name": "stdout"
        }
      ]
    },
    {
      "cell_type": "code",
      "metadata": {
        "colab": {
          "base_uri": "https://localhost:8080/",
          "height": 552
        },
        "id": "996Wn3Vlb8QJ",
        "outputId": "885f159a-38ef-493c-b98b-32feadb00df6"
      },
      "source": [
        "# print image of model as check\n",
        "keras.utils.plot_model(model, show_shapes=True, dpi=48)"
      ],
      "execution_count": 10,
      "outputs": [
        {
          "output_type": "execute_result",
          "data": {
            "image/png": "[encoded data removed]",
            "text/plain": [
              "<IPython.core.display.Image object>"
            ]
          },
          "metadata": {
            "tags": []
          },
          "execution_count": 10
        }
      ]
    },
    {
      "cell_type": "code",
      "metadata": {
        "id": "8efbeVFKdiYK"
      },
      "source": [
        "es = keras.callbacks.EarlyStopping(min_delta=0.001, patience=2)"
      ],
      "execution_count": 11,
      "outputs": []
    },
    {
      "cell_type": "markdown",
      "metadata": {
        "id": "9pqsqdTUJBS3"
      },
      "source": [
        "## Loss Functions\n",
        "\n",
        "When y labels are sequential use `sparse_categorical_crossentropy`.  \n",
        "When y labels are onehot encoded, use `categorical_crossentropy`."
      ]
    },
    {
      "cell_type": "code",
      "metadata": {
        "colab": {
          "base_uri": "https://localhost:8080/"
        },
        "id": "X2GOOkcLbX--",
        "outputId": "d8ec3cc6-76a3-4594-d845-acede19ba9e9"
      },
      "source": [
        "model.compile(loss='sparse_categorical_crossentropy',\n",
        "                      optimizer='adam',\n",
        "                      metrics=['accuracy'])\n",
        "\n",
        "history = model.fit(x_train, y_train,\n",
        "                    validation_split=0.2,\n",
        "                    batch_size=32,\n",
        "                    epochs=1000,\n",
        "                    callbacks=[es])"
      ],
      "execution_count": 12,
      "outputs": [
        {
          "output_type": "stream",
          "text": [
            "Epoch 1/1000\n",
            "600/600 [==============================] - 5s 4ms/step - loss: 0.3161 - accuracy: 0.8857 - val_loss: 0.1469 - val_accuracy: 0.9498\n",
            "Epoch 2/1000\n",
            "600/600 [==============================] - 2s 4ms/step - loss: 0.1251 - accuracy: 0.9576 - val_loss: 0.0828 - val_accuracy: 0.9731\n",
            "Epoch 3/1000\n",
            "600/600 [==============================] - 2s 4ms/step - loss: 0.0900 - accuracy: 0.9705 - val_loss: 0.0702 - val_accuracy: 0.9773\n",
            "Epoch 4/1000\n",
            "600/600 [==============================] - 2s 3ms/step - loss: 0.0698 - accuracy: 0.9782 - val_loss: 0.0675 - val_accuracy: 0.9800\n",
            "Epoch 5/1000\n",
            "600/600 [==============================] - 2s 3ms/step - loss: 0.0591 - accuracy: 0.9811 - val_loss: 0.0593 - val_accuracy: 0.9833\n",
            "Epoch 6/1000\n",
            "600/600 [==============================] - 2s 4ms/step - loss: 0.0506 - accuracy: 0.9829 - val_loss: 0.0630 - val_accuracy: 0.9815\n",
            "Epoch 7/1000\n",
            "600/600 [==============================] - 2s 3ms/step - loss: 0.0474 - accuracy: 0.9856 - val_loss: 0.0551 - val_accuracy: 0.9825\n",
            "Epoch 8/1000\n",
            "600/600 [==============================] - 2s 4ms/step - loss: 0.0421 - accuracy: 0.9869 - val_loss: 0.0658 - val_accuracy: 0.9815\n",
            "Epoch 9/1000\n",
            "600/600 [==============================] - 2s 3ms/step - loss: 0.0382 - accuracy: 0.9878 - val_loss: 0.0512 - val_accuracy: 0.9852\n",
            "Epoch 10/1000\n",
            "600/600 [==============================] - 2s 4ms/step - loss: 0.0315 - accuracy: 0.9896 - val_loss: 0.0780 - val_accuracy: 0.9792\n",
            "Epoch 11/1000\n",
            "600/600 [==============================] - 2s 4ms/step - loss: 0.0328 - accuracy: 0.9887 - val_loss: 0.0556 - val_accuracy: 0.9860\n"
          ],
          "name": "stdout"
        }
      ]
    },
    {
      "cell_type": "code",
      "metadata": {
        "id": "OEZyjmR7b0aS"
      },
      "source": [
        "def plot_training_curves(history, title=None):\n",
        "    ''' Plot the training curves for loss and accuracy given a model history\n",
        "    '''\n",
        "    # find the minimum loss epoch\n",
        "    minimum = np.min(history.history['val_loss'])\n",
        "    min_loc = np.where(minimum == history.history['val_loss'])[0]\n",
        "    # get the vline y-min and y-max\n",
        "    loss_min, loss_max = (min(history.history['val_loss'] + history.history['loss']),\n",
        "                          max(history.history['val_loss'] + history.history['loss']))\n",
        "    acc_min, acc_max = (min(history.history['val_accuracy'] + history.history['accuracy']),\n",
        "                        max(history.history['val_accuracy'] + history.history['accuracy']))\n",
        "    # create figure\n",
        "    fig, ax = plt.subplots(ncols=2, figsize = (15,7))\n",
        "    fig.suptitle(title)\n",
        "    index = np.arange(1, len(history.history['accuracy']) + 1)\n",
        "    # plot the loss and validation loss\n",
        "    ax[0].plot(index, history.history['loss'], label = 'loss')\n",
        "    ax[0].plot(index, history.history['val_loss'], label = 'val_loss')\n",
        "    ax[0].vlines(min_loc + 1, loss_min, loss_max, label = 'min_loss_location')\n",
        "    ax[0].set_title('Loss')\n",
        "    ax[0].set_ylabel('Loss')\n",
        "    ax[0].set_xlabel('Epochs')\n",
        "    ax[0].legend()\n",
        "    # plot the accuracy and validation accuracy\n",
        "    ax[1].plot(index, history.history['accuracy'], label = 'accuracy')\n",
        "    ax[1].plot(index, history.history['val_accuracy'], label = 'val_accuracy')\n",
        "    ax[1].vlines(min_loc + 1, acc_min, acc_max, label = 'min_loss_location')\n",
        "    ax[1].set_title('Accuracy')\n",
        "    ax[1].set_ylabel('Accuracy')\n",
        "    ax[1].set_xlabel('Epochs')\n",
        "    ax[1].legend()\n",
        "    plt.show()"
      ],
      "execution_count": 13,
      "outputs": []
    },
    {
      "cell_type": "code",
      "metadata": {
        "colab": {
          "base_uri": "https://localhost:8080/",
          "height": 458
        },
        "id": "Qfk0LEIKfICa",
        "outputId": "ea3c4b46-9f6d-4350-ab96-bf89a881faf0"
      },
      "source": [
        "plot_training_curves(history)"
      ],
      "execution_count": 14,
      "outputs": [
        {
          "output_type": "display_data",
          "data": {
            "image/png": "[encoded data removed]",
            "text/plain": [
              "<Figure size 1080x504 with 2 Axes>"
            ]
          },
          "metadata": {
            "tags": [],
            "needs_background": "light"
          }
        }
      ]
    },
    {
      "cell_type": "code",
      "metadata": {
        "id": "5HjmvtMhpdO3"
      },
      "source": [
        "# predict using the model\n",
        "preds = model.predict(x_test)"
      ],
      "execution_count": 15,
      "outputs": []
    },
    {
      "cell_type": "code",
      "metadata": {
        "colab": {
          "base_uri": "https://localhost:8080/"
        },
        "id": "sIxQV5RMrOwM",
        "outputId": "2265512b-5183-482f-d35c-3a4210719f97"
      },
      "source": [
        "x_test.shape"
      ],
      "execution_count": 16,
      "outputs": [
        {
          "output_type": "execute_result",
          "data": {
            "text/plain": [
              "(4000, 28, 28, 1)"
            ]
          },
          "metadata": {
            "tags": []
          },
          "execution_count": 16
        }
      ]
    },
    {
      "cell_type": "code",
      "metadata": {
        "colab": {
          "base_uri": "https://localhost:8080/"
        },
        "id": "H5c-U5UxrHOa",
        "outputId": "029409a2-7750-4ce1-bfac-ef3ce13dcefb"
      },
      "source": [
        "preds.shape"
      ],
      "execution_count": 17,
      "outputs": [
        {
          "output_type": "execute_result",
          "data": {
            "text/plain": [
              "(4000, 6)"
            ]
          },
          "metadata": {
            "tags": []
          },
          "execution_count": 17
        }
      ]
    },
    {
      "cell_type": "code",
      "metadata": {
        "colab": {
          "base_uri": "https://localhost:8080/"
        },
        "id": "vHsZTQ7wpeYm",
        "outputId": "d3f7cbea-5d19-43ea-b364-44569fcfa543"
      },
      "source": [
        "preds[0]"
      ],
      "execution_count": 18,
      "outputs": [
        {
          "output_type": "execute_result",
          "data": {
            "text/plain": [
              "array([2.15632117e-08, 9.99793947e-01, 1.10030094e-04, 1.49845255e-06,\n",
              "       2.57112588e-05, 6.88427244e-05], dtype=float32)"
            ]
          },
          "metadata": {
            "tags": []
          },
          "execution_count": 18
        }
      ]
    },
    {
      "cell_type": "code",
      "metadata": {
        "colab": {
          "base_uri": "https://localhost:8080/"
        },
        "id": "Ao4KdS35fRDZ",
        "outputId": "12525f90-b8f9-45a5-b8a0-035c54ced64b"
      },
      "source": [
        "# classify the test set\n",
        "\n",
        "# predict using the model\n",
        "preds = model.predict(x_test)\n",
        "# argmax along rows to get classification\n",
        "preds = np.argmax(preds, axis=1).astype(\"uint8\")\n",
        "\n",
        "accuracy_score(y_test, preds)"
      ],
      "execution_count": 19,
      "outputs": [
        {
          "output_type": "execute_result",
          "data": {
            "text/plain": [
              "0.984"
            ]
          },
          "metadata": {
            "tags": []
          },
          "execution_count": 19
        }
      ]
    },
    {
      "cell_type": "code",
      "metadata": {
        "colab": {
          "base_uri": "https://localhost:8080/"
        },
        "id": "xT9khKABRlaq",
        "outputId": "2a299a92-23b3-46b5-899f-49243b71abbe"
      },
      "source": [
        "preds.shape"
      ],
      "execution_count": 20,
      "outputs": [
        {
          "output_type": "execute_result",
          "data": {
            "text/plain": [
              "(4000,)"
            ]
          },
          "metadata": {
            "tags": []
          },
          "execution_count": 20
        }
      ]
    },
    {
      "cell_type": "markdown",
      "metadata": {
        "id": "RMdVlO6qbdW-"
      },
      "source": [
        "# Transfer Learning Section\n",
        "\n",
        "1. \"Lock\" the convolutional layers (set to non-trainable)\n",
        "2. Remove original output layer, add new output layer with 5 neurons\n",
        "3. Train classifier on my own new dataset (A,B,C,D,E)"
      ]
    },
    {
      "cell_type": "markdown",
      "metadata": {
        "id": "j0mxUgA9udsm"
      },
      "source": [
        "## Preprocessing my image data (A,B,C,D,E)"
      ]
    },
    {
      "cell_type": "code",
      "metadata": {
        "id": "8WUXEJnrZPQd"
      },
      "source": [
        "import numpy as np\n",
        "from PIL import Image\n",
        "\n",
        "import matplotlib.pyplot as plt\n",
        "import glob"
      ],
      "execution_count": 21,
      "outputs": []
    },
    {
      "cell_type": "code",
      "metadata": {
        "colab": {
          "base_uri": "https://localhost:8080/"
        },
        "id": "yucLzzYRBFfa",
        "outputId": "b2ee8532-8225-4a0e-c4c7-e52378773371"
      },
      "source": [
        "from google.colab import drive\n",
        "drive.mount('/content/drive')"
      ],
      "execution_count": 22,
      "outputs": [
        {
          "output_type": "stream",
          "text": [
            "Drive already mounted at /content/drive; to attempt to forcibly remount, call drive.mount(\"/content/drive\", force_remount=True).\n"
          ],
          "name": "stdout"
        }
      ]
    },
    {
      "cell_type": "markdown",
      "metadata": {
        "id": "LNMiGzpqfG2h"
      },
      "source": [
        "pillow (PIL) is the python package for working with real images:\n",
        "\n",
        "[https://pillow.readthedocs.io/en/stable/index.html](https://pillow.readthedocs.io/en/stable/index.html)"
      ]
    },
    {
      "cell_type": "markdown",
      "metadata": {
        "id": "1vl67ARjemIf"
      },
      "source": [
        "I have some images of cats in google drive that I'll be using for example.\n",
        "How to mount google drive in the colab env:\n",
        "[https://www.kaggle.com/questions-and-answers/162449](https://www.kaggle.com/questions-and-answers/162449)"
      ]
    },
    {
      "cell_type": "code",
      "metadata": {
        "colab": {
          "base_uri": "https://localhost:8080/"
        },
        "id": "Z8-W_b46ZUYU",
        "outputId": "bae71797-2add-4c9c-ef84-9afc986833fe"
      },
      "source": [
        "images_A = glob.glob('drive/MyDrive/Colab_Notebooks/ML2_HW4/alphabet_images/A/**/*.png',recursive=True)\n",
        "images_B = glob.glob('drive/MyDrive/Colab_Notebooks/ML2_HW4/alphabet_images/B/**/*.png',recursive=True)\n",
        "images_C = glob.glob('drive/MyDrive/Colab_Notebooks/ML2_HW4/alphabet_images/C/**/*.png',recursive=True)\n",
        "images_D = glob.glob('drive/MyDrive/Colab_Notebooks/ML2_HW4/alphabet_images/D/**/*.png',recursive=True)\n",
        "images_E = glob.glob('drive/MyDrive/Colab_Notebooks/ML2_HW4/alphabet_images/E/**/*.png',recursive=True)\n",
        "\n",
        "images=images_A+images_B+images_C+images_D+images_E\n",
        "len(images)"
      ],
      "execution_count": 23,
      "outputs": [
        {
          "output_type": "execute_result",
          "data": {
            "text/plain": [
              "100"
            ]
          },
          "metadata": {
            "tags": []
          },
          "execution_count": 23
        }
      ]
    },
    {
      "cell_type": "markdown",
      "metadata": {
        "id": "xes4jRAiet68"
      },
      "source": [
        "Open the image and resize it.\n",
        "Note that the hand written images should be resized to (28,28).\n",
        "\n",
        "[https://pillow.readthedocs.io/en/stable/reference/Image.html#PIL.Image.Image.resize](https://pillow.readthedocs.io/en/stable/reference/Image.html#PIL.Image.Image.resize)"
      ]
    },
    {
      "cell_type": "code",
      "metadata": {
        "colab": {
          "base_uri": "https://localhost:8080/",
          "height": 286
        },
        "id": "HSBSKb38cOKS",
        "outputId": "473dcf3f-9926-483b-a873-4ea6bca711b3"
      },
      "source": [
        "im = Image.open(images[0])\n",
        "plt.imshow(im)"
      ],
      "execution_count": 24,
      "outputs": [
        {
          "output_type": "execute_result",
          "data": {
            "text/plain": [
              "<matplotlib.image.AxesImage at 0x7f52a601bd90>"
            ]
          },
          "metadata": {
            "tags": []
          },
          "execution_count": 24
        },
        {
          "output_type": "display_data",
          "data": {
            "image/png": "[encoded data removed]",
            "text/plain": [
              "<Figure size 432x288 with 1 Axes>"
            ]
          },
          "metadata": {
            "tags": [],
            "needs_background": "light"
          }
        }
      ]
    },
    {
      "cell_type": "code",
      "metadata": {
        "colab": {
          "base_uri": "https://localhost:8080/",
          "height": 282
        },
        "id": "m32s1fsjcraI",
        "outputId": "7405716e-c034-472d-9c86-be4009f13944"
      },
      "source": [
        "size = (28,28)\n",
        "im = im.resize(size)\n",
        "plt.imshow(im)\n"
      ],
      "execution_count": 25,
      "outputs": [
        {
          "output_type": "execute_result",
          "data": {
            "text/plain": [
              "<matplotlib.image.AxesImage at 0x7f5290507b10>"
            ]
          },
          "metadata": {
            "tags": []
          },
          "execution_count": 25
        },
        {
          "output_type": "display_data",
          "data": {
            "image/png": "[encoded data removed]",
            "text/plain": [
              "<Figure size 432x288 with 1 Axes>"
            ]
          },
          "metadata": {
            "tags": [],
            "needs_background": "light"
          }
        }
      ]
    },
    {
      "cell_type": "markdown",
      "metadata": {
        "id": "H4AEuTs6e4GW"
      },
      "source": [
        "Convert the image to greyscale with \"L\" option.\n",
        "\n",
        "[https://pillow.readthedocs.io/en/stable/reference/Image.html#PIL.Image.Image.convert](https://pillow.readthedocs.io/en/stable/reference/Image.html#PIL.Image.Image.convert)"
      ]
    },
    {
      "cell_type": "code",
      "metadata": {
        "colab": {
          "base_uri": "https://localhost:8080/",
          "height": 282
        },
        "id": "SncwIzgrbjb7",
        "outputId": "547252ce-14bf-4895-9771-65ca0970ec4f"
      },
      "source": [
        "from PIL import Image\n",
        "import PIL.ImageOps \n",
        "\n",
        "im = im.convert(\"L\")\n",
        "im=PIL.ImageOps.invert(im)\n",
        "plt.imshow(im)"
      ],
      "execution_count": 26,
      "outputs": [
        {
          "output_type": "execute_result",
          "data": {
            "text/plain": [
              "<matplotlib.image.AxesImage at 0x7f529047c290>"
            ]
          },
          "metadata": {
            "tags": []
          },
          "execution_count": 26
        },
        {
          "output_type": "display_data",
          "data": {
            "image/png": "[encoded data removed]",
            "text/plain": [
              "<Figure size 432x288 with 1 Axes>"
            ]
          },
          "metadata": {
            "tags": [],
            "needs_background": "light"
          }
        }
      ]
    },
    {
      "cell_type": "markdown",
      "metadata": {
        "id": "r_BgRugCf_1p"
      },
      "source": [
        "## Turning them into numpy array to be able to feed into neural network"
      ]
    },
    {
      "cell_type": "code",
      "metadata": {
        "colab": {
          "base_uri": "https://localhost:8080/"
        },
        "id": "6cy18I-vdUWv",
        "outputId": "1e84d767-d7e9-4293-ffdd-5b77144b42f6"
      },
      "source": [
        "im = np.array(im)\n",
        "im"
      ],
      "execution_count": 27,
      "outputs": [
        {
          "output_type": "execute_result",
          "data": {
            "text/plain": [
              "array([[  0,   0,   0,   0,   0,   0,   0,   0,   0,   0,   0,   0,   0,\n",
              "          0,   0,   0,   0,   0,   0,   0,   0,   0,   0,   0,   0,   0,\n",
              "          0,   0],\n",
              "       [  0,   0,   0,   0,   0,   0,   0,   0,   0,   0,   0,   0,   0,\n",
              "          0,   0,   0,   0,   0,   0,   0,   0,   0,   0,   0,   0,   0,\n",
              "          0,   0],\n",
              "       [  0,   0,   0,   0,   0,   0,   0,   0,   0,   0,   0,   0,   0,\n",
              "          0,   0,   0,   0,   0,   0,   0,   0,   0,   0,   0,   0,   0,\n",
              "          0,   0],\n",
              "       [  0,   0,   0,   0,   0,   0,   0,   0,   0,   0,   0,   0,   0,\n",
              "          0,   0,   0,   0,   0,   0,   0,   0,   0,   0,   0,   0,   0,\n",
              "          0,   0],\n",
              "       [  0,   0,   0,   0,   0,   0,   0,   0,   0,   0,   0,   0,   0,\n",
              "          0,   0,   0,   6,   0,   0,   0,   0,   0,   0,   0,   0,   0,\n",
              "          0,   0],\n",
              "       [  0,   0,   0,   0,   0,   0,   0,   0,   0,   0,   0,   0,   0,\n",
              "          0,   0, 121, 179,   2,   0,   0,   0,   0,   0,   0,   0,   0,\n",
              "          0,   0],\n",
              "       [  0,   0,   0,   0,   0,   0,   0,   0,   0,   0,   0,   0,   0,\n",
              "          0,  43, 245, 150,   0,   0,   0,   0,   0,   0,   0,   0,   0,\n",
              "          0,   0],\n",
              "       [  0,   0,   0,   0,   0,   0,   0,   0,   0,   0,   0,   0,   0,\n",
              "          4, 186, 255, 165,   0,   0,   0,   0,   0,   0,   0,   0,   0,\n",
              "          0,   0],\n",
              "       [  0,   0,   0,   0,   0,   0,   0,   0,   0,   0,   0,   0,   0,\n",
              "        112, 247, 178, 230,  13,   0,   0,   0,   0,   0,   0,   0,   0,\n",
              "          0,   0],\n",
              "       [  0,   0,   0,   0,   0,   0,   0,   0,   0,   0,   0,   0,  33,\n",
              "        245, 126,  56, 253,  43,   0,   0,   0,   0,   0,   0,   0,   0,\n",
              "          0,   0],\n",
              "       [  0,   0,   0,   0,   0,   0,   0,   0,   0,   0,   0,   1, 177,\n",
              "        220,  11,  18, 242,  88,   0,   0,   0,   0,   0,   0,   0,   0,\n",
              "          0,   0],\n",
              "       [  0,   0,   0,   0,   0,   0,   0,   0,   0,   0,   0,  72, 255,\n",
              "         73,   0,   2, 212, 136,   0,   0,   0,   0,   0,   0,   0,   0,\n",
              "          0,   0],\n",
              "       [  0,   0,   0,   0,   0,   0,   0,   0,   0,   0,   5, 205, 184,\n",
              "          0,   0,   0, 167, 187,   0,   0,   0,   0,   0,   0,   0,   0,\n",
              "          0,   0],\n",
              "       [  0,   0,   0,   0,   0,   0,   0,   0,   0,   0,  85, 255,  53,\n",
              "          0,   0,   0, 117, 225,   6,   0,   0,   0,   0,   0,   0,   0,\n",
              "          0,   0],\n",
              "       [  0,   0,   0,   0,   0,   0,   0,   0,   0,   4, 209, 173,   0,\n",
              "          0,   0,   0,  73, 247,  30,   0,   0,   0,   0,   0,   0,   0,\n",
              "          0,   0],\n",
              "       [  0,   0,   0,   0,   0,   0,   0,   0,   0,  81, 249,  44,   0,\n",
              "          0,   0,   0,  28, 246,  77,   0,   0,   0,   0,   0,   0,   0,\n",
              "          0,   0],\n",
              "       [  0,   0,   0,   0,   0,   0,   0,   0,   6, 206, 255, 206, 206,\n",
              "        204, 203, 203, 206, 255, 215,  26,   0,   0,   0,   0,   0,   0,\n",
              "          0,   0],\n",
              "       [  0,   0,   0,   0,   0,   0,   0,   0,  99, 246, 142, 154, 156,\n",
              "        153, 152, 152, 151, 196, 238,  20,   0,   0,   0,   0,   0,   0,\n",
              "          0,   0],\n",
              "       [  0,   0,   0,   0,   0,   0,   0,  19, 232, 131,   0,   0,   0,\n",
              "          0,   0,   0,   0,  54, 253,  53,   0,   0,   0,   0,   0,   0,\n",
              "          0,   0],\n",
              "       [  0,   0,   0,   0,   0,   0,   0, 147, 224,  14,   0,   0,   0,\n",
              "          0,   0,   0,   0,  12, 232, 134,   0,   0,   0,   0,   0,   0,\n",
              "          0,   0],\n",
              "       [  0,   0,   0,   0,   0,   0,  66, 254,  80,   0,   0,   0,   0,\n",
              "          0,   0,   0,   0,   0, 184, 184,   0,   0,   0,   0,   0,   0,\n",
              "          0,   0],\n",
              "       [  0,   0,   0,   0,   0,   0, 126, 179,   1,   0,   0,   0,   0,\n",
              "          0,   0,   0,   0,   0, 189, 191,   0,   0,   0,   0,   0,   0,\n",
              "          0,   0],\n",
              "       [  0,   0,   0,   0,   0,   0,   3,   4,   0,   0,   0,   0,   0,\n",
              "          0,   0,   0,   0,   0,  98,  87,   0,   0,   0,   0,   0,   0,\n",
              "          0,   0],\n",
              "       [  0,   0,   0,   0,   0,   0,   0,   0,   0,   0,   0,   0,   0,\n",
              "          0,   0,   0,   0,   0,   0,   0,   0,   0,   0,   0,   0,   0,\n",
              "          0,   0],\n",
              "       [  0,   0,   0,   0,   0,   0,   0,   0,   0,   0,   0,   0,   0,\n",
              "          0,   0,   0,   0,   0,   0,   0,   0,   0,   0,   0,   0,   0,\n",
              "          0,   0],\n",
              "       [  0,   0,   0,   0,   0,   0,   0,   0,   0,   0,   0,   0,   0,\n",
              "          0,   0,   0,   0,   0,   0,   0,   0,   0,   0,   0,   0,   0,\n",
              "          0,   0],\n",
              "       [  0,   0,   0,   0,   0,   0,   0,   0,   0,   0,   0,   0,   0,\n",
              "          0,   0,   0,   0,   0,   0,   0,   0,   0,   0,   0,   0,   0,\n",
              "          0,   0],\n",
              "       [  0,   0,   0,   0,   0,   0,   0,   0,   0,   0,   0,   0,   0,\n",
              "          0,   0,   0,   0,   0,   0,   0,   0,   0,   0,   0,   0,   0,\n",
              "          0,   0]], dtype=uint8)"
            ]
          },
          "metadata": {
            "tags": []
          },
          "execution_count": 27
        }
      ]
    },
    {
      "cell_type": "code",
      "metadata": {
        "colab": {
          "base_uri": "https://localhost:8080/"
        },
        "id": "gPVU91E5TtWO",
        "outputId": "07bc1857-8cfc-494d-cc09-94458a71b29c"
      },
      "source": [
        "im.max()"
      ],
      "execution_count": 28,
      "outputs": [
        {
          "output_type": "execute_result",
          "data": {
            "text/plain": [
              "255"
            ]
          },
          "metadata": {
            "tags": []
          },
          "execution_count": 28
        }
      ]
    },
    {
      "cell_type": "code",
      "metadata": {
        "colab": {
          "base_uri": "https://localhost:8080/"
        },
        "id": "FjfLmAqzdid2",
        "outputId": "c4adeaf7-7bf2-4fbb-a7d1-7202e63b23f2"
      },
      "source": [
        "print(im.shape)"
      ],
      "execution_count": 29,
      "outputs": [
        {
          "output_type": "stream",
          "text": [
            "(28, 28)\n"
          ],
          "name": "stdout"
        }
      ]
    },
    {
      "cell_type": "markdown",
      "metadata": {
        "id": "tVEvzg9zuu8s"
      },
      "source": [
        "## Resizing images to 28 x 28 and converting to grey scale"
      ]
    },
    {
      "cell_type": "code",
      "metadata": {
        "id": "rX4VOywPdnrF"
      },
      "source": [
        "# load each image, run the initial conversion steps, combine in a list and invert\n",
        "new_images = []\n",
        "new_size = (28,28)\n",
        "for im in images:\n",
        "  im = Image.open(im).convert(\"L\").resize(new_size)\n",
        "  im = PIL.ImageOps.invert(im)\n",
        "  new_images.append(np.array(im))\n",
        "  "
      ],
      "execution_count": 30,
      "outputs": []
    },
    {
      "cell_type": "code",
      "metadata": {
        "colab": {
          "base_uri": "https://localhost:8080/"
        },
        "id": "gOnKYvw5Ub-D",
        "outputId": "388f907d-bd40-4583-85ec-97e6ad162fdf"
      },
      "source": [
        "new_images[0].shape"
      ],
      "execution_count": 31,
      "outputs": [
        {
          "output_type": "execute_result",
          "data": {
            "text/plain": [
              "(28, 28)"
            ]
          },
          "metadata": {
            "tags": []
          },
          "execution_count": 31
        }
      ]
    },
    {
      "cell_type": "code",
      "metadata": {
        "colab": {
          "base_uri": "https://localhost:8080/"
        },
        "id": "W4Gn0zR5eRxR",
        "outputId": "0fd3dce7-308a-4bea-be5a-b3afd9c6d89d"
      },
      "source": [
        "# \"stack\" the arrays\n",
        "x = np.stack(new_images)\n",
        "print(x.shape)"
      ],
      "execution_count": 32,
      "outputs": [
        {
          "output_type": "stream",
          "text": [
            "(100, 28, 28)\n"
          ],
          "name": "stdout"
        }
      ]
    },
    {
      "cell_type": "code",
      "metadata": {
        "colab": {
          "base_uri": "https://localhost:8080/"
        },
        "id": "3veX_dX1geoT",
        "outputId": "5d35cf1a-b0f4-41d0-f83d-5da94a708210"
      },
      "source": [
        "# as done in mnist add the color channel\n",
        "x = x.reshape((100,28,28,1))\n",
        "x.shape"
      ],
      "execution_count": 33,
      "outputs": [
        {
          "output_type": "execute_result",
          "data": {
            "text/plain": [
              "(100, 28, 28, 1)"
            ]
          },
          "metadata": {
            "tags": []
          },
          "execution_count": 33
        }
      ]
    },
    {
      "cell_type": "markdown",
      "metadata": {
        "id": "Z2WIqwXdu4L4"
      },
      "source": [
        "## Labeling the images"
      ]
    },
    {
      "cell_type": "code",
      "metadata": {
        "colab": {
          "base_uri": "https://localhost:8080/"
        },
        "id": "j1QD-MH9wKZH",
        "outputId": "959f0c30-5e0e-4844-bbbb-41d94dfa00ab"
      },
      "source": [
        "y=np.array([0]*20+[1]*20+[2]*20+[3]*20+[4]*20)\n",
        "set(y)"
      ],
      "execution_count": 34,
      "outputs": [
        {
          "output_type": "execute_result",
          "data": {
            "text/plain": [
              "{0, 1, 2, 3, 4}"
            ]
          },
          "metadata": {
            "tags": []
          },
          "execution_count": 34
        }
      ]
    },
    {
      "cell_type": "code",
      "metadata": {
        "id": "2Fg_71OAr0fg"
      },
      "source": [
        "# y=np.array([1]*20+[2]*20+[3]*20+[4]*20+[5]*20)\n",
        "# set(y)"
      ],
      "execution_count": 35,
      "outputs": []
    },
    {
      "cell_type": "code",
      "metadata": {
        "id": "ezFOaIN9y61T"
      },
      "source": [
        "import numpy\n",
        "\n",
        "indices = numpy.random.permutation(x.shape[0])\n",
        "training_idx, test_idx = indices[:75], indices[75:] # Assigning 75% of the data in training 25% in tet\n",
        "x_train_image, x_test_image = x[training_idx,:]/255, x[test_idx,:]/255\n",
        "y_train_image, y_test_image = y[training_idx], y[test_idx]\n",
        "y_train_image = y_train_image.astype(np.uint8)\n",
        "y_test_image = y_test_image.astype(np.uint8)"
      ],
      "execution_count": 36,
      "outputs": []
    },
    {
      "cell_type": "code",
      "metadata": {
        "colab": {
          "base_uri": "https://localhost:8080/"
        },
        "id": "S2cHgefuyfo5",
        "outputId": "c3bd8fa0-acf1-4257-ff3f-81360643bebc"
      },
      "source": [
        "y_test_image"
      ],
      "execution_count": 37,
      "outputs": [
        {
          "output_type": "execute_result",
          "data": {
            "text/plain": [
              "array([1, 3, 1, 1, 1, 3, 1, 0, 2, 4, 2, 4, 1, 0, 4, 2, 2, 0, 2, 4, 3, 2,\n",
              "       4, 1, 3], dtype=uint8)"
            ]
          },
          "metadata": {
            "tags": []
          },
          "execution_count": 37
        }
      ]
    },
    {
      "cell_type": "code",
      "metadata": {
        "colab": {
          "base_uri": "https://localhost:8080/"
        },
        "id": "SHI_RHNYtVXi",
        "outputId": "4bc7a760-d458-4747-d882-9256295bee4e"
      },
      "source": [
        "# lock the ConvNet layers\n",
        "layer_trainable = False\n",
        "for layer in model.layers:\n",
        "  layer.trainable = layer_trainable\n",
        "  if layer.name == 'flatten':\n",
        "    layer_trainable = True\n",
        "\n",
        "print(f\"{'Layer Name':17} {'Is Trainable?'}\")\n",
        "for layer in model.layers:\n",
        "  print(f\"{layer.name:17} {layer.trainable}\")"
      ],
      "execution_count": 38,
      "outputs": [
        {
          "output_type": "stream",
          "text": [
            "Layer Name        Is Trainable?\n",
            "conv2d            False\n",
            "max_pooling2d     False\n",
            "conv2d_1          False\n",
            "max_pooling2d_1   False\n",
            "flatten           False\n",
            "dropout           True\n",
            "dense             True\n",
            "penult            True\n",
            "last              True\n"
          ],
          "name": "stdout"
        }
      ]
    },
    {
      "cell_type": "code",
      "metadata": {
        "id": "uPerNSoAt_PQ"
      },
      "source": [
        "from tensorflow.keras import Sequential, Model\n",
        "# get the penultimate layer of the model\n",
        "penult_layer = model.get_layer(name='penult')\n",
        "\n",
        "# create a new output layer\n",
        "output_layer = keras.layers.Dense(5, activation='softmax')(penult_layer.output)\n",
        "\n",
        "# create new model with new output layer\n",
        "new_model = Model(model.input, output_layer)"
      ],
      "execution_count": 39,
      "outputs": []
    },
    {
      "cell_type": "code",
      "metadata": {
        "id": "i4BVD1WCuBU5",
        "colab": {
          "base_uri": "https://localhost:8080/"
        },
        "outputId": "0bf0ba97-1cd1-4918-aed0-498ef6008ce1"
      },
      "source": [
        "new_model.compile(loss='sparse_categorical_crossentropy',\n",
        "                  optimizer='adam',\n",
        "                  metrics=['accuracy'])\n",
        "\n",
        "new_model_hist = new_model.fit(x_train_image, y_train_image,\n",
        "                              validation_data=(x_test_image, y_test_image),\n",
        "                              batch_size=10,\n",
        "                              epochs=1000,\n",
        "                              callbacks=[es])"
      ],
      "execution_count": 40,
      "outputs": [
        {
          "output_type": "stream",
          "text": [
            "Epoch 1/1000\n",
            "8/8 [==============================] - 1s 31ms/step - loss: 2.0500 - accuracy: 0.3200 - val_loss: 1.3129 - val_accuracy: 0.5600\n",
            "Epoch 2/1000\n",
            "8/8 [==============================] - 0s 7ms/step - loss: 0.9559 - accuracy: 0.6000 - val_loss: 0.5681 - val_accuracy: 0.8000\n",
            "Epoch 3/1000\n",
            "8/8 [==============================] - 0s 7ms/step - loss: 0.4251 - accuracy: 0.8667 - val_loss: 0.2766 - val_accuracy: 0.9200\n",
            "Epoch 4/1000\n",
            "8/8 [==============================] - 0s 6ms/step - loss: 0.1997 - accuracy: 0.9467 - val_loss: 0.1648 - val_accuracy: 0.9600\n",
            "Epoch 5/1000\n",
            "8/8 [==============================] - 0s 6ms/step - loss: 0.0904 - accuracy: 0.9867 - val_loss: 0.1228 - val_accuracy: 0.9600\n",
            "Epoch 6/1000\n",
            "8/8 [==============================] - 0s 6ms/step - loss: 0.0927 - accuracy: 0.9867 - val_loss: 0.0919 - val_accuracy: 1.0000\n",
            "Epoch 7/1000\n",
            "8/8 [==============================] - 0s 7ms/step - loss: 0.0631 - accuracy: 1.0000 - val_loss: 0.0801 - val_accuracy: 1.0000\n",
            "Epoch 8/1000\n",
            "8/8 [==============================] - 0s 6ms/step - loss: 0.0504 - accuracy: 0.9867 - val_loss: 0.0712 - val_accuracy: 1.0000\n",
            "Epoch 9/1000\n",
            "8/8 [==============================] - 0s 6ms/step - loss: 0.0273 - accuracy: 1.0000 - val_loss: 0.0649 - val_accuracy: 1.0000\n",
            "Epoch 10/1000\n",
            "8/8 [==============================] - 0s 6ms/step - loss: 0.0304 - accuracy: 1.0000 - val_loss: 0.0619 - val_accuracy: 1.0000\n",
            "Epoch 11/1000\n",
            "8/8 [==============================] - 0s 6ms/step - loss: 0.0275 - accuracy: 1.0000 - val_loss: 0.0582 - val_accuracy: 1.0000\n",
            "Epoch 12/1000\n",
            "8/8 [==============================] - 0s 7ms/step - loss: 0.0178 - accuracy: 1.0000 - val_loss: 0.0558 - val_accuracy: 1.0000\n",
            "Epoch 13/1000\n",
            "8/8 [==============================] - 0s 6ms/step - loss: 0.0318 - accuracy: 1.0000 - val_loss: 0.0530 - val_accuracy: 1.0000\n",
            "Epoch 14/1000\n",
            "8/8 [==============================] - 0s 7ms/step - loss: 0.0265 - accuracy: 1.0000 - val_loss: 0.0483 - val_accuracy: 1.0000\n",
            "Epoch 15/1000\n",
            "8/8 [==============================] - 0s 7ms/step - loss: 0.0165 - accuracy: 1.0000 - val_loss: 0.0462 - val_accuracy: 1.0000\n",
            "Epoch 16/1000\n",
            "8/8 [==============================] - 0s 6ms/step - loss: 0.0124 - accuracy: 1.0000 - val_loss: 0.0467 - val_accuracy: 1.0000\n",
            "Epoch 17/1000\n",
            "8/8 [==============================] - 0s 9ms/step - loss: 0.0168 - accuracy: 1.0000 - val_loss: 0.0437 - val_accuracy: 1.0000\n",
            "Epoch 18/1000\n",
            "8/8 [==============================] - 0s 6ms/step - loss: 0.0110 - accuracy: 1.0000 - val_loss: 0.0396 - val_accuracy: 1.0000\n",
            "Epoch 19/1000\n",
            "8/8 [==============================] - 0s 6ms/step - loss: 0.0083 - accuracy: 1.0000 - val_loss: 0.0370 - val_accuracy: 1.0000\n",
            "Epoch 20/1000\n",
            "8/8 [==============================] - 0s 7ms/step - loss: 0.0131 - accuracy: 1.0000 - val_loss: 0.0374 - val_accuracy: 1.0000\n",
            "Epoch 21/1000\n",
            "8/8 [==============================] - 0s 6ms/step - loss: 0.0086 - accuracy: 1.0000 - val_loss: 0.0359 - val_accuracy: 1.0000\n",
            "Epoch 22/1000\n",
            "8/8 [==============================] - 0s 5ms/step - loss: 0.0083 - accuracy: 1.0000 - val_loss: 0.0352 - val_accuracy: 1.0000\n",
            "Epoch 23/1000\n",
            "8/8 [==============================] - 0s 6ms/step - loss: 0.0117 - accuracy: 1.0000 - val_loss: 0.0337 - val_accuracy: 1.0000\n",
            "Epoch 24/1000\n",
            "8/8 [==============================] - 0s 5ms/step - loss: 0.0048 - accuracy: 1.0000 - val_loss: 0.0335 - val_accuracy: 1.0000\n",
            "Epoch 25/1000\n",
            "8/8 [==============================] - 0s 6ms/step - loss: 0.0062 - accuracy: 1.0000 - val_loss: 0.0330 - val_accuracy: 1.0000\n"
          ],
          "name": "stdout"
        }
      ]
    },
    {
      "cell_type": "code",
      "metadata": {
        "colab": {
          "base_uri": "https://localhost:8080/"
        },
        "id": "mOFns2Eie8kI",
        "outputId": "efad324d-edeb-48d4-f7d1-587c5e4d7c8a"
      },
      "source": [
        "# classify the test set\n",
        "\n",
        "# predict using the model\n",
        "preds = new_model.predict(x_test_image)\n",
        "# argmax along rows to get classification\n",
        "preds = np.argmax(preds, axis=1).astype(\"uint8\")\n",
        "\n",
        "accuracy_score(y_test_image, preds)"
      ],
      "execution_count": 41,
      "outputs": [
        {
          "output_type": "execute_result",
          "data": {
            "text/plain": [
              "1.0"
            ]
          },
          "metadata": {
            "tags": []
          },
          "execution_count": 41
        }
      ]
    },
    {
      "cell_type": "markdown",
      "metadata": {
        "id": "ssRs9aI55O8d"
      },
      "source": [
        "## Final plot"
      ]
    },
    {
      "cell_type": "code",
      "metadata": {
        "id": "sKFbOzVkuC7o",
        "colab": {
          "base_uri": "https://localhost:8080/",
          "height": 458
        },
        "outputId": "2d9dcc84-6c21-40fc-cfeb-cfcacae38621"
      },
      "source": [
        "plot_training_curves(new_model_hist)"
      ],
      "execution_count": 42,
      "outputs": [
        {
          "output_type": "display_data",
          "data": {
            "image/png": "[encoded data removed]",
            "text/plain": [
              "<Figure size 1080x504 with 2 Axes>"
            ]
          },
          "metadata": {
            "tags": [],
            "needs_background": "light"
          }
        }
      ]
    }
  ]
}